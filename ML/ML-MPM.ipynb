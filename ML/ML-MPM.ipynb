{
 "cells": [
  {
   "cell_type": "code",
   "execution_count": 1,
   "metadata": {
    "pycharm": {
     "name": "#%%\n"
    }
   },
   "outputs": [
    {
     "name": "stdout",
     "output_type": "stream",
     "text": [
      "Collecting kmodes\n",
      "  Downloading kmodes-0.12.2-py2.py3-none-any.whl (20 kB)\n",
      "Requirement already satisfied: scipy>=0.13.3 in e:\\programfiles\\anaconda3\\lib\\site-packages (from kmodes) (1.7.1)\n",
      "Requirement already satisfied: joblib>=0.11 in e:\\programfiles\\anaconda3\\lib\\site-packages (from kmodes) (1.1.0)\n",
      "Requirement already satisfied: numpy>=1.10.4 in e:\\programfiles\\anaconda3\\lib\\site-packages (from kmodes) (1.20.3)\n",
      "Requirement already satisfied: scikit-learn>=0.22.0 in e:\\programfiles\\anaconda3\\lib\\site-packages (from kmodes) (0.24.2)\n",
      "Requirement already satisfied: threadpoolctl>=2.0.0 in e:\\programfiles\\anaconda3\\lib\\site-packages (from scikit-learn>=0.22.0->kmodes) (2.2.0)\n",
      "Installing collected packages: kmodes\n",
      "Successfully installed kmodes-0.12.2\n"
     ]
    }
   ],
   "source": [
    "!pip install kmodes"
   ]
  },
  {
   "cell_type": "code",
   "execution_count": 22,
   "metadata": {
    "collapsed": true
   },
   "outputs": [],
   "source": [
    "import pandas as pd\n",
    "import matplotlib.pyplot as plt\n",
    "from sklearn.cluster import KMeans\n",
    "import torch\n",
    "import torch.nn as nn\n",
    "import torch.nn.functional as F\n",
    "import torch.optim as optim\n",
    "from sklearn.model_selection import train_test_split\n",
    "from sklearn.preprocessing import StandardScaler"
   ]
  },
  {
   "cell_type": "code",
   "execution_count": 23,
   "metadata": {
    "pycharm": {
     "name": "#%%\n"
    }
   },
   "outputs": [
    {
     "data": {
      "text/plain": "   id  time_online  video_clicks  content_anticipation  delay_lectures  \\\n0   0          388           799                    17               5   \n1   1          471           945                    23               6   \n2   2          170           716                    33               6   \n3   3          159           629                    23               6   \n4   4          286           511                    23               3   \n\n   fraction_spent  grade  \n0              45     17  \n1              44     16  \n2              12     14  \n3              76     16  \n4              66     18  ",
      "text/html": "<div>\n<style scoped>\n    .dataframe tbody tr th:only-of-type {\n        vertical-align: middle;\n    }\n\n    .dataframe tbody tr th {\n        vertical-align: top;\n    }\n\n    .dataframe thead th {\n        text-align: right;\n    }\n</style>\n<table border=\"1\" class=\"dataframe\">\n  <thead>\n    <tr style=\"text-align: right;\">\n      <th></th>\n      <th>id</th>\n      <th>time_online</th>\n      <th>video_clicks</th>\n      <th>content_anticipation</th>\n      <th>delay_lectures</th>\n      <th>fraction_spent</th>\n      <th>grade</th>\n    </tr>\n  </thead>\n  <tbody>\n    <tr>\n      <th>0</th>\n      <td>0</td>\n      <td>388</td>\n      <td>799</td>\n      <td>17</td>\n      <td>5</td>\n      <td>45</td>\n      <td>17</td>\n    </tr>\n    <tr>\n      <th>1</th>\n      <td>1</td>\n      <td>471</td>\n      <td>945</td>\n      <td>23</td>\n      <td>6</td>\n      <td>44</td>\n      <td>16</td>\n    </tr>\n    <tr>\n      <th>2</th>\n      <td>2</td>\n      <td>170</td>\n      <td>716</td>\n      <td>33</td>\n      <td>6</td>\n      <td>12</td>\n      <td>14</td>\n    </tr>\n    <tr>\n      <th>3</th>\n      <td>3</td>\n      <td>159</td>\n      <td>629</td>\n      <td>23</td>\n      <td>6</td>\n      <td>76</td>\n      <td>16</td>\n    </tr>\n    <tr>\n      <th>4</th>\n      <td>4</td>\n      <td>286</td>\n      <td>511</td>\n      <td>23</td>\n      <td>3</td>\n      <td>66</td>\n      <td>18</td>\n    </tr>\n  </tbody>\n</table>\n</div>"
     },
     "execution_count": 23,
     "metadata": {},
     "output_type": "execute_result"
    }
   ],
   "source": [
    "df = pd.read_csv(\"dataset.csv\")\n",
    "\n",
    "df.head()"
   ]
  },
  {
   "cell_type": "markdown",
   "source": [
    "# Task 1\n",
    "## Part 1\n",
    "We want to predict the grade using raw features.\n",
    "The class below is a sample neural network implemented in talk!"
   ],
   "metadata": {
    "collapsed": false
   }
  },
  {
   "cell_type": "code",
   "execution_count": 24,
   "outputs": [],
   "source": [
    "class Net(nn.Module):\n",
    "    def __init__(self, input_size):\n",
    "        super(Net, self).__init__()\n",
    "        self.fc1 = nn.Linear(input_size, 10)\n",
    "        self.fc2 = nn.Linear(10, 8)\n",
    "        self.fc3 = nn.Linear(8, 1)\n",
    "\n",
    "    def forward(self, x):\n",
    "        x = torch.relu(self.fc1(x))\n",
    "        x = torch.relu(self.fc2(x))\n",
    "        x = self.fc3(x)\n",
    "        return x"
   ],
   "metadata": {
    "collapsed": false,
    "pycharm": {
     "name": "#%%\n"
    }
   }
  },
  {
   "cell_type": "markdown",
   "source": [
    "Below is the code for training raw features."
   ],
   "metadata": {
    "collapsed": false
   }
  },
  {
   "cell_type": "code",
   "execution_count": 56,
   "outputs": [],
   "source": [
    "raw_features = df[[\"time_online\", \"video_clicks\", \"content_anticipation\", \"delay_lectures\", \"fraction_spent\"]].values\n",
    "target = df['grade'].values\n",
    "\n",
    "scaler = StandardScaler()\n",
    "raw_features = scaler.fit_transform(raw_features)\n",
    "\n",
    "X_train, X_test, y_train, y_test = train_test_split(raw_features, target, test_size=0.2, random_state=0)\n",
    "\n",
    "X_train = torch.Tensor(X_train)\n",
    "y_train = torch.Tensor(y_train).unsqueeze(1)\n",
    "X_test = torch.Tensor(X_test)\n",
    "y_test = torch.Tensor(y_test).unsqueeze(1)\n",
    "\n",
    "input_size = raw_features.shape[1]\n",
    "model = Net(input_size)\n",
    "\n",
    "criterion = nn.MSELoss()\n",
    "optimizer = optim.Adam(model.parameters(), lr=0.01)\n",
    "\n",
    "for i in range(10000):\n",
    "    outputs = model(X_train)\n",
    "    loss = criterion(outputs, y_train)\n",
    "    optimizer.zero_grad()\n",
    "    loss.backward()\n",
    "    optimizer.step()"
   ],
   "metadata": {
    "collapsed": false,
    "pycharm": {
     "name": "#%%\n"
    }
   }
  },
  {
   "cell_type": "markdown",
   "source": [
    "Now we evaluate our model using test data.\n",
    "The MSE loss is roughly 1.12"
   ],
   "metadata": {
    "collapsed": false
   }
  },
  {
   "cell_type": "code",
   "execution_count": 57,
   "outputs": [
    {
     "name": "stdout",
     "output_type": "stream",
     "text": [
      "1.1188479661941528\n"
     ]
    }
   ],
   "source": [
    "model.eval()\n",
    "with torch.no_grad():\n",
    "    y_pred = model(X_test)\n",
    "    mse = F.mse_loss(y_pred, y_test)\n",
    "    print(mse.item())\n",
    "mse_NN_raw = mse.item()"
   ],
   "metadata": {
    "collapsed": false,
    "pycharm": {
     "name": "#%%\n"
    }
   }
  },
  {
   "cell_type": "markdown",
   "source": [
    "## Part 2\n",
    "Now we use K-means algorithm to cluster.\n",
    "Then train our model using clustered features."
   ],
   "metadata": {
    "collapsed": false
   }
  },
  {
   "cell_type": "code",
   "execution_count": 41,
   "metadata": {
    "pycharm": {
     "name": "#%%\n"
    }
   },
   "outputs": [],
   "source": [
    "effort_clustering = KMeans(n_clusters=2, random_state=0).fit(df[['time_online', 'video_clicks']])\n",
    "df['effort'] = effort_clustering.labels_\n",
    "\n",
    "proactivity_clustering = KMeans(n_clusters=2, random_state=0).fit(df[['content_anticipation', 'delay_lectures']])\n",
    "df['proactivity'] = proactivity_clustering.labels_\n",
    "\n",
    "control_clustering = KMeans(n_clusters=2, random_state=0).fit(df[['fraction_spent']])\n",
    "df['control'] = control_clustering.labels_\n",
    "\n",
    "df.to_csv(\"dataset_clustered.csv\", index=False)"
   ]
  },
  {
   "cell_type": "markdown",
   "metadata": {},
   "source": [
    "Now train our model using dimensions."
   ]
  },
  {
   "cell_type": "code",
   "execution_count": 42,
   "metadata": {
    "pycharm": {
     "name": "#%%\n"
    }
   },
   "outputs": [],
   "source": [
    "clustered_features = df[[\"effort\", \"proactivity\", \"control\"]].values\n",
    "target = df['grade'].values\n",
    "\n",
    "scaler = StandardScaler()\n",
    "clustered_features = scaler.fit_transform(clustered_features)\n",
    "\n",
    "X_train, X_test, y_train, y_test = train_test_split(clustered_features, target, test_size=0.2, random_state=0)\n",
    "\n",
    "X_train = torch.Tensor(X_train)\n",
    "y_train = torch.Tensor(y_train).unsqueeze(1)\n",
    "X_test = torch.Tensor(X_test)\n",
    "y_test = torch.Tensor(y_test).unsqueeze(1)\n",
    "\n",
    "input_size = clustered_features.shape[1]\n",
    "model_clustering = Net(input_size)\n",
    "\n",
    "criterion_clustering = nn.MSELoss()\n",
    "optimizer_clustering = optim.Adam(model_clustering.parameters(), lr=0.01)\n",
    "\n",
    "for i in range(10000):\n",
    "    outputs = model_clustering(X_train)\n",
    "    loss = criterion_clustering(outputs, y_train)\n",
    "    optimizer_clustering.zero_grad()\n",
    "    loss.backward()\n",
    "    optimizer_clustering.step()"
   ]
  },
  {
   "cell_type": "markdown",
   "metadata": {},
   "source": [
    "Now evaluate our model.\n",
    "The MSE is roughly 0.87"
   ]
  },
  {
   "cell_type": "code",
   "execution_count": 43,
   "metadata": {
    "pycharm": {
     "name": "#%%\n"
    }
   },
   "outputs": [
    {
     "name": "stdout",
     "output_type": "stream",
     "text": [
      "0.8698774576187134\n"
     ]
    }
   ],
   "source": [
    "model_clustering.eval()\n",
    "with torch.no_grad():\n",
    "    y_pred = model_clustering(X_test)\n",
    "    mse = F.mse_loss(y_pred, y_test)\n",
    "    print(mse.item())\n",
    "mse_NN_clustered = mse.item()"
   ]
  },
  {
   "cell_type": "markdown",
   "source": [
    "# Task 2\n",
    "## Part 1\n",
    "Here we use decision tree classifier to train our model.\n",
    "First we use raw features."
   ],
   "metadata": {
    "collapsed": false
   }
  },
  {
   "cell_type": "code",
   "execution_count": 32,
   "outputs": [],
   "source": [
    "import pandas as pd\n",
    "from sklearn.tree import DecisionTreeClassifier # Import Decision Tree Classifier\n",
    "from sklearn.model_selection import train_test_split # Import train_test_split function\n",
    "from sklearn import metrics #Import scikit-learn metrics module for accuracy calculation"
   ],
   "metadata": {
    "collapsed": false,
    "pycharm": {
     "name": "#%%\n"
    }
   }
  },
  {
   "cell_type": "code",
   "execution_count": 33,
   "outputs": [
    {
     "data": {
      "text/plain": "   id  time_online  video_clicks  content_anticipation  delay_lectures  \\\n0   0          388           799                    17               5   \n1   1          471           945                    23               6   \n2   2          170           716                    33               6   \n3   3          159           629                    23               6   \n4   4          286           511                    23               3   \n\n   fraction_spent  grade  \n0              45     17  \n1              44     16  \n2              12     14  \n3              76     16  \n4              66     18  ",
      "text/html": "<div>\n<style scoped>\n    .dataframe tbody tr th:only-of-type {\n        vertical-align: middle;\n    }\n\n    .dataframe tbody tr th {\n        vertical-align: top;\n    }\n\n    .dataframe thead th {\n        text-align: right;\n    }\n</style>\n<table border=\"1\" class=\"dataframe\">\n  <thead>\n    <tr style=\"text-align: right;\">\n      <th></th>\n      <th>id</th>\n      <th>time_online</th>\n      <th>video_clicks</th>\n      <th>content_anticipation</th>\n      <th>delay_lectures</th>\n      <th>fraction_spent</th>\n      <th>grade</th>\n    </tr>\n  </thead>\n  <tbody>\n    <tr>\n      <th>0</th>\n      <td>0</td>\n      <td>388</td>\n      <td>799</td>\n      <td>17</td>\n      <td>5</td>\n      <td>45</td>\n      <td>17</td>\n    </tr>\n    <tr>\n      <th>1</th>\n      <td>1</td>\n      <td>471</td>\n      <td>945</td>\n      <td>23</td>\n      <td>6</td>\n      <td>44</td>\n      <td>16</td>\n    </tr>\n    <tr>\n      <th>2</th>\n      <td>2</td>\n      <td>170</td>\n      <td>716</td>\n      <td>33</td>\n      <td>6</td>\n      <td>12</td>\n      <td>14</td>\n    </tr>\n    <tr>\n      <th>3</th>\n      <td>3</td>\n      <td>159</td>\n      <td>629</td>\n      <td>23</td>\n      <td>6</td>\n      <td>76</td>\n      <td>16</td>\n    </tr>\n    <tr>\n      <th>4</th>\n      <td>4</td>\n      <td>286</td>\n      <td>511</td>\n      <td>23</td>\n      <td>3</td>\n      <td>66</td>\n      <td>18</td>\n    </tr>\n  </tbody>\n</table>\n</div>"
     },
     "execution_count": 33,
     "metadata": {},
     "output_type": "execute_result"
    }
   ],
   "source": [
    "df = pd.read_csv(\"dataset.csv\")\n",
    "df.head()"
   ],
   "metadata": {
    "collapsed": false,
    "pycharm": {
     "name": "#%%\n"
    }
   }
  },
  {
   "cell_type": "code",
   "execution_count": 44,
   "outputs": [],
   "source": [
    "X_train, X_test, y_train, y_test = train_test_split(raw_features, target, test_size=0.2, random_state=1)"
   ],
   "metadata": {
    "collapsed": false,
    "pycharm": {
     "name": "#%%\n"
    }
   }
  },
  {
   "cell_type": "markdown",
   "source": [
    "Here we create decision tree with depth 3.\n",
    "Then predict for test data and the MSE is roughly 1.04."
   ],
   "metadata": {
    "collapsed": false
   }
  },
  {
   "cell_type": "code",
   "execution_count": 45,
   "outputs": [
    {
     "name": "stdout",
     "output_type": "stream",
     "text": [
      "1.0360360360360361\n"
     ]
    }
   ],
   "source": [
    "# Create Decision Tree classifer object\n",
    "clf = DecisionTreeClassifier(criterion=\"entropy\", max_depth=3)\n",
    "\n",
    "# Train Decision Tree Classifer\n",
    "clf = clf.fit(X_train,y_train)\n",
    "\n",
    "#Predict the response for test dataset\n",
    "y_pred = clf.predict(X_test)\n",
    "\n",
    "# Model Accuracy, how often is the classifier correct?\n",
    "print(metrics.mean_squared_error(y_test, y_pred))\n",
    "mse_DT_raw = metrics.mean_squared_error(y_test, y_pred)"
   ],
   "metadata": {
    "collapsed": false,
    "pycharm": {
     "name": "#%%\n"
    }
   }
  },
  {
   "cell_type": "markdown",
   "source": [
    "## Part 2\n",
    "Now we train our model using clustered features."
   ],
   "metadata": {
    "collapsed": false,
    "pycharm": {
     "name": "#%% md\n"
    }
   }
  },
  {
   "cell_type": "code",
   "execution_count": 46,
   "outputs": [],
   "source": [
    "X_train, X_test, y_train, y_test = train_test_split(clustered_features, target, test_size=0.2, random_state=1)"
   ],
   "metadata": {
    "collapsed": false,
    "pycharm": {
     "name": "#%%\n"
    }
   }
  },
  {
   "cell_type": "markdown",
   "source": [],
   "metadata": {
    "collapsed": false
   }
  },
  {
   "cell_type": "markdown",
   "source": [
    "Again we create decision tree with depth 3.\n",
    "Then predict for test data and the MSE is roughly 1.01."
   ],
   "metadata": {
    "collapsed": false
   }
  },
  {
   "cell_type": "code",
   "execution_count": 47,
   "outputs": [
    {
     "name": "stdout",
     "output_type": "stream",
     "text": [
      "1.0135135135135136\n"
     ]
    }
   ],
   "source": [
    "# Create Decision Tree classifer object\n",
    "clustered_clf = DecisionTreeClassifier(criterion=\"entropy\", max_depth=3)\n",
    "\n",
    "# Train Decision Tree Classifer\n",
    "clustered_clf = clustered_clf.fit(X_train,y_train)\n",
    "\n",
    "#Predict the response for test dataset\n",
    "clustered_y_pred = clustered_clf.predict(X_test)\n",
    "\n",
    "# Model Accuracy, how often is the classifier correct?\n",
    "print(metrics.mean_squared_error(y_test, clustered_y_pred))\n",
    "mse_DT_clustered = metrics.mean_squared_error(y_test, clustered_y_pred)"
   ],
   "metadata": {
    "collapsed": false,
    "pycharm": {
     "name": "#%%\n"
    }
   }
  },
  {
   "cell_type": "markdown",
   "source": [
    "# Comparison\n",
    "Below I Compare 4 results.\n",
    "I get this part from Mehran Montazer."
   ],
   "metadata": {
    "collapsed": false
   }
  },
  {
   "cell_type": "code",
   "execution_count": 58,
   "outputs": [
    {
     "data": {
      "text/plain": "<Figure size 576x432 with 1 Axes>",
      "image/png": "[encoded data removed]"
     },
     "metadata": {
      "needs_background": "light"
     },
     "output_type": "display_data"
    }
   ],
   "source": [
    "data = [mse_NN_raw, mse_NN_clustered, mse_DT_raw, mse_DT_clustered]\n",
    "labels = ['NN raw features', 'NN clustered features', 'DT raw features', 'DT clustered features']\n",
    "colors = ['red', 'blue', 'green', 'purple']\n",
    "\n",
    "# Create a bar chart with custom colors and rotated labels\n",
    "fig, ax = plt.subplots(figsize=(8, 6))\n",
    "ax.bar(labels, data, color=colors)\n",
    "ax.tick_params(axis='x', rotation=45, labelsize=12)\n",
    "ax.tick_params(axis='y', labelsize=12)\n",
    "\n",
    "# Add x-axis label\n",
    "ax.set_xlabel('Methods', fontsize=14)\n",
    "\n",
    "# Add y-axis label\n",
    "ax.set_ylabel('Mean-Squared Error', fontsize=14)\n",
    "\n",
    "# Add chart title\n",
    "ax.set_title('Comparison of Different Methods', fontsize=16, fontweight='bold')\n",
    "\n",
    "# Adjust y-axis limits to make more space for data labels\n",
    "label_height = ax.get_ylim()[1] * 0.1\n",
    "ax.set_ylim([0, ax.get_ylim()[1] + label_height])\n",
    "\n",
    "# Add data labels on top of each bar\n",
    "for i, v in enumerate(data):\n",
    "    ax.text(i, v+0.03, str(round(v, 2)), ha='center', fontsize=12)\n",
    "\n",
    "# Display the chart\n",
    "plt.show()"
   ],
   "metadata": {
    "collapsed": false,
    "pycharm": {
     "name": "#%%\n"
    }
   }
  }
 ],
 "metadata": {
  "kernelspec": {
   "display_name": "Python 3 (ipykernel)",
   "language": "python",
   "name": "python3"
  },
  "language_info": {
   "codemirror_mode": {
    "name": "ipython",
    "version": 3
   },
   "file_extension": ".py",
   "mimetype": "text/x-python",
   "name": "python",
   "nbconvert_exporter": "python",
   "pygments_lexer": "ipython3",
   "version": "3.9.7"
  }
 },
 "nbformat": 4,
 "nbformat_minor": 1
}